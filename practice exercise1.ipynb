{
 "cells": [
  {
   "cell_type": "markdown",
   "metadata": {},
   "source": [
    "# take values of length and width of a rectangle and check if it is square or not"
   ]
  },
  {
   "cell_type": "code",
   "execution_count": 10,
   "metadata": {},
   "outputs": [
    {
     "name": "stdout",
     "output_type": "stream",
     "text": [
      "enter length : 1o\n",
      "enter width: 1o\n",
      "you have not enterd integers\n"
     ]
    }
   ],
   "source": [
    "try:\n",
    "    length = input(\"enter length : \")\n",
    "    width = input(\"enter width: \")\n",
    "    length1 = int(length)\n",
    "    width1 = int(width)\n",
    "    if width1 == length1:\n",
    "        print(\"square\")\n",
    "    else:\n",
    "        print(\"rectangle\")\n",
    "except:\n",
    "    print(\"you have not enterd integers\")"
   ]
  },
  {
   "cell_type": "markdown",
   "metadata": {},
   "source": [
    "# take two interger values from user and print greatest among them"
   ]
  },
  {
   "cell_type": "code",
   "execution_count": 32,
   "metadata": {},
   "outputs": [
    {
     "name": "stdout",
     "output_type": "stream",
     "text": [
      "enter x: 10\n",
      "enter y : 10\n",
      "equal\n"
     ]
    }
   ],
   "source": [
    "try:\n",
    "    x = int(input(\"enter x: \"))\n",
    "    y = int(input(\"enter y : \"))\n",
    "    if x > y:\n",
    "        print(\"greatest = \",x)\n",
    "    elif  y > x: \n",
    "        print(\"greatest = \",y)\n",
    "    else:\n",
    "        print(\"equal\")\n",
    "except:\n",
    "    print(\"you have not entered an integer\")"
   ]
  },
  {
   "cell_type": "markdown",
   "metadata": {},
   "source": [
    "#  a shop will give discount of 10% if the cost of purchased quantity is more than 1000\n",
    "# ask for quantity\n",
    "# suppose one unit will cost 100\n",
    "# judge and print total cost for user"
   ]
  },
  {
   "cell_type": "code",
   "execution_count": 11,
   "metadata": {},
   "outputs": [
    {
     "name": "stdout",
     "output_type": "stream",
     "text": [
      "quantity : 20\n",
      "2000\n",
      "discount 200.0\n",
      "total 1800.0\n"
     ]
    }
   ],
   "source": [
    "try:\n",
    "    quantity = int(input(\"quantity : \"))\n",
    "    cost = 100\n",
    "    totalcost = quantity * cost\n",
    "    print(totalcost)\n",
    "    if totalcost > 1000:\n",
    "        discount = 10 / 100 * totalcost\n",
    "        print(\"discount\",discount)\n",
    "    totaldiscount = totalcost - discount\n",
    "    print(\"total\",totaldiscount)\n",
    "except:\n",
    "    print(\"enter an integer\")   \n",
    "\n"
   ]
  },
  {
   "cell_type": "markdown",
   "metadata": {},
   "source": [
    "# 4. a company decided to give a bonus of 5% to employeees if his \n",
    "year of service is less than or equal to 5 years and 10% if his or her \n",
    "year of service is less than 10 yrs but grater than 5yrs and lastly 15 % for 10 yrs \n",
    "and above.ask user for their salary and year of service and print the net bonus amount"
   ]
  },
  {
   "cell_type": "code",
   "execution_count": 6,
   "metadata": {},
   "outputs": [
    {
     "name": "stdout",
     "output_type": "stream",
     "text": [
      "enter years of service20\n",
      "enter salary200\n",
      "netbonus =  229.99999999999997\n"
     ]
    }
   ],
   "source": [
    "try:\n",
    "    years = int(input(\"enter years of service\"))\n",
    "    salary = int(input(\"enter salary\"))\n",
    "    if years <= 5:\n",
    "        netbonus = 105 / 100 * salary\n",
    "        print(\"netbonus = \",netbonus)\n",
    "    elif years <= 10:\n",
    "        netbonus = 110 / 100 * salary\n",
    "        print(\"netbonus = \",netbonus)\n",
    "    else:\n",
    "        netbonus = 115 / 100 * salary\n",
    "        print( \"netbonus = \" ,netbonus)\n",
    "except:\n",
    "    print(\"enter integers\")\n",
    "    \n"
   ]
  },
  {
   "cell_type": "markdown",
   "metadata": {},
   "source": [
    "# 5 ask users to enter marks and print the corresponding grade\n"
   ]
  },
  {
   "cell_type": "code",
   "execution_count": 8,
   "metadata": {},
   "outputs": [
    {
     "name": "stdout",
     "output_type": "stream",
     "text": [
      "enter marks 68\n",
      "B\n"
     ]
    }
   ],
   "source": [
    "try:\n",
    "    marks = int(input(\"enter marks \"))\n",
    "    if marks <= 25:\n",
    "        print(\"F\")\n",
    "    elif marks <= 45:\n",
    "        print(\"E\")\n",
    "    elif marks <= 50:\n",
    "        print(\"D\")\n",
    "    elif marks <=60:\n",
    "        print(\"C\")\n",
    "    elif marks <= 80:\n",
    "        print(\"B\")\n",
    "    else:\n",
    "        print(\"A\")\n",
    "except:\n",
    "    print(\"enter intagers\")"
   ]
  },
  {
   "cell_type": "markdown",
   "metadata": {},
   "source": [
    "# 6 take input inpute of age of 3people by user and determine aldest and youngest among them and print average age"
   ]
  },
  {
   "cell_type": "code",
   "execution_count": 1,
   "metadata": {},
   "outputs": [
    {
     "name": "stdout",
     "output_type": "stream",
     "text": [
      "enter age30\n",
      "enter age20\n",
      "enter age10\n",
      "oldest =  30 youngest =  10\n"
     ]
    }
   ],
   "source": [
    "try:\n",
    "    e = int(input(\"enter age\"))\n",
    "    t = int(input(\"enter age\"))\n",
    "    c = int(input(\"enter age\"))\n",
    "    if e > t > c:\n",
    "        print(\"oldest = \",e,\"youngest = \",c)\n",
    "    elif t > c > e:\n",
    "        print(\"oldest = \",t,\"youngest = \",e)\n",
    "    else:\n",
    "        print(\"oldest = \",c,\"youngest\",t)\n",
    "except:\n",
    "    print(\"enter an integer\")\n"
   ]
  },
  {
   "cell_type": "markdown",
   "metadata": {},
   "source": [
    "# a student will not be allowed to sit for exam if his or her attendance is less than 75% take the following input for user no of classes held,no of classes attended and print the percentage of class attendance and if student is allowed to sit for exam or not"
   ]
  },
  {
   "cell_type": "code",
   "execution_count": 55,
   "metadata": {},
   "outputs": [
    {
     "name": "stdout",
     "output_type": "stream",
     "text": [
      "enter classes held100\n",
      "enter classes attended75\n",
      "percentage =  75.0\n",
      "sit for exam\n",
      "enter medical cause y/n :y\n",
      "sit for exam\n"
     ]
    }
   ],
   "source": [
    "try:\n",
    "    classesheld = int(input(\"enter classes held\"))\n",
    "    classesattended = int(input(\"enter classes attended\"))\n",
    "    percentage = classesattended / classesheld * 100\n",
    "    print(\"percentage = \",percentage)\n",
    "    if percentage <= 75:\n",
    "        print(\"sit for exam\")\n",
    "    else:\n",
    "        print(\"no exam\")\n",
    "except:\n",
    "        print(\"enter an integer\")\n",
    "medicalcause = input(\"enter medical cause y/n :\")\n",
    "if medicalcause == str(\"y\"):\n",
    "    print(\"sit for exam\")\n",
    "else:\n",
    "    print(\"no exam\")"
   ]
  },
  {
   "cell_type": "markdown",
   "metadata": {},
   "source": [
    " "
   ]
  },
  {
   "cell_type": "code",
   "execution_count": null,
   "metadata": {},
   "outputs": [],
   "source": []
  }
 ],
 "metadata": {
  "kernelspec": {
   "display_name": "Python 3",
   "language": "python",
   "name": "python3"
  },
  "language_info": {
   "codemirror_mode": {
    "name": "ipython",
    "version": 3
   },
   "file_extension": ".py",
   "mimetype": "text/x-python",
   "name": "python",
   "nbconvert_exporter": "python",
   "pygments_lexer": "ipython3",
   "version": "3.7.3"
  }
 },
 "nbformat": 4,
 "nbformat_minor": 2
}

{
 "cells": [
  {
   "cell_type": "code",
   "execution_count": null,
   "metadata": {},
   "outputs": [],
   "source": [
    "# rewrite your pay computatoin with time and a half for overtime and create a function called comutepay which takes two parameters(hours and rate).\n",
    "hours = 45\n",
    "entry = 10\n",
    "pay 475.0\n"
   ]
  },
  {
   "cell_type": "code",
   "execution_count": 12,
   "metadata": {},
   "outputs": [
    {
     "name": "stdout",
     "output_type": "stream",
     "text": [
      "5\n",
      "547.5\n"
     ]
    }
   ],
   "source": [
    "def computpay(hours,rate):\n",
    "    hours=int(hours)\n",
    "    rate=int(rate)\n",
    "    if hours > 40:\n",
    "        extrahours = hours - 40\n",
    "        print(extrahours)\n",
    "    pay = hours * rate\n",
    "    return(pay+extrahours*1.5)\n",
    "print(computpay(45,12))\n",
    "    "
   ]
  },
  {
   "cell_type": "code",
   "execution_count": null,
   "metadata": {},
   "outputs": [],
   "source": []
  },
  {
   "cell_type": "code",
   "execution_count": null,
   "metadata": {},
   "outputs": [],
   "source": []
  }
 ],
 "metadata": {
  "kernelspec": {
   "display_name": "Python 3",
   "language": "python",
   "name": "python3"
  }
 },
 "nbformat": 4,
 "nbformat_minor": 2
}

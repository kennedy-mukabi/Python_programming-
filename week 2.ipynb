{
 "cells": [
  {
   "cell_type": "markdown",
   "metadata": {},
   "source": [
    "## 1. rewrite your pay computation to give the employees 1.5 times the hourly rate for hours worked above 40 hours "
   ]
  },
  {
   "cell_type": "code",
   "execution_count": null,
   "metadata": {},
   "outputs": [],
   "source": [
    "try:\n",
    "    hours = int(input(\"enter hours\"))\n",
    "    rate = int(input(\"enter rate\"))\n",
    "    if hours > 40:\n",
    "        extrahours = hours - 40\n",
    "        print(\"extra hours :\",extrahours)\n",
    "    pay = hours * rate\n",
    "    bonuspay = pay + extrahours * 1.5\n",
    "    print(\"pay :\",pay)\n",
    "except:\n",
    "    print(\"enter an integer\")"
   ]
  },
  {
   "cell_type": "code",
   "execution_count": null,
   "metadata": {},
   "outputs": [],
   "source": []
  },
  {
   "cell_type": "code",
   "execution_count": null,
   "metadata": {},
   "outputs": [],
   "source": []
  }
 ],
 "metadata": {
  "kernelspec": {
   "display_name": "Python 3",
   "language": "python",
   "name": "python3"
  },
  "language_info": {
   "codemirror_mode": {
    "name": "ipython",
    "version": 3
   },
   "file_extension": ".py",
   "mimetype": "text/x-python",
   "name": "python",
   "nbconvert_exporter": "python",
   "pygments_lexer": "ipython3",
   "version": "3.7.3"
  }
 },
 "nbformat": 4,
 "nbformat_minor": 2
}

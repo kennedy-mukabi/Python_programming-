{
 "cells": [
  {
   "cell_type": "markdown",
   "metadata": {},
   "source": [
    "# 1. Determine if  22 exist in [3,41,12,9,74,15]. Otherwise print \"does not exist\"\n",
    "\n",
    "# 2: Determine how many times did 22 exist in [3,41,12,9,74,15]"
   ]
  },
  {
   "cell_type": "code",
   "execution_count": 1,
   "metadata": {},
   "outputs": [
    {
     "name": "stdout",
     "output_type": "stream",
     "text": [
      "does not exist\n"
     ]
    }
   ],
   "source": [
    "count=0\n",
    "numbers=[3,41,12,9,74,15]\n",
    "present=22   \n",
    "for num in numbers:    \n",
    "    if num == present:\n",
    "        present=num\n",
    "        count=count+1\n",
    "        print(present,\"is present\",count,\"times\")\n",
    "    else:\n",
    "        absent=(\"does not exist\")\n",
    "if count==0:\n",
    "    print(absent)\n"
   ]
  },
  {
   "cell_type": "code",
   "execution_count": null,
   "metadata": {},
   "outputs": [],
   "source": []
  }
 ],
 "metadata": {
  "kernelspec": {
   "display_name": "Python 3",
   "language": "python",
   "name": "python3"
  },
  "language_info": {
   "codemirror_mode": {
    "name": "ipython",
    "version": 3
   },
   "file_extension": ".py",
   "mimetype": "text/x-python",
   "name": "python",
   "nbconvert_exporter": "python",
   "pygments_lexer": "ipython3",
   "version": "3.7.3"
  }
 },
 "nbformat": 4,
 "nbformat_minor": 2
}

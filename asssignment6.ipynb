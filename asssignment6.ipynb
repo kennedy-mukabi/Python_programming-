{
 "cells": [
  {
   "cell_type": "code",
   "execution_count": 1,
   "metadata": {},
   "outputs": [],
   "source": [
    "fhandle = open(\"mbox.txt\")"
   ]
  },
  {
   "cell_type": "markdown",
   "metadata": {},
   "source": [
    "# most common day"
   ]
  },
  {
   "cell_type": "code",
   "execution_count": 2,
   "metadata": {},
   "outputs": [],
   "source": [
    "count=0\n",
    "fhandle = open(\"mbox.txt\",\"r\")\n",
    "worddict={}\n",
    "for fh in fhandle:\n",
    "    if (fh.startswith(\"From \")):\n",
    "        splitt=fh.split()\n",
    "        fh=splitt\n",
    "        fh=fh[2]\n",
    "        for comm in fh:\n",
    "            if fh not in worddict:\n",
    "                worddict[fh]=1\n",
    "            else:\n",
    "                worddict[fh]=worddict[fh]+1"
   ]
  },
  {
   "cell_type": "code",
   "execution_count": 3,
   "metadata": {},
   "outputs": [
    {
     "name": "stdout",
     "output_type": "stream",
     "text": [
      "Sat 183\n",
      "Fri 774\n",
      "Thu 1056\n"
     ]
    }
   ],
   "source": [
    "count=0\n",
    "for a,b in worddict.items():\n",
    "    if count<b:\n",
    "        count=b\n",
    "        print(a,count)"
   ]
  },
  {
   "cell_type": "markdown",
   "metadata": {},
   "source": [
    "\n",
    "# most common month"
   ]
  },
  {
   "cell_type": "code",
   "execution_count": 4,
   "metadata": {},
   "outputs": [],
   "source": [
    "count=0\n",
    "fhandle = open(\"mbox.txt\",\"r\")\n",
    "worddict={}\n",
    "for fh in fhandle:\n",
    "    if (fh.startswith(\"From \")):\n",
    "        splitt=fh.split()\n",
    "        fh=splitt\n",
    "        fh=fh[3]\n",
    "        for comm in fh:\n",
    "            if fh not in worddict:\n",
    "                worddict[fh]=1\n",
    "            else:\n",
    "                worddict[fh]=worddict[fh]+1"
   ]
  },
  {
   "cell_type": "code",
   "execution_count": 5,
   "metadata": {},
   "outputs": [
    {
     "name": "stdout",
     "output_type": "stream",
     "text": [
      "Jan 297\n",
      "Dec 2118\n"
     ]
    }
   ],
   "source": [
    "count=0\n",
    "for a,b in worddict.items():\n",
    "    if count<b:\n",
    "        count=b\n",
    "        print(a,count)"
   ]
  },
  {
   "cell_type": "markdown",
   "metadata": {},
   "source": [
    "# most common date"
   ]
  },
  {
   "cell_type": "code",
   "execution_count": 8,
   "metadata": {},
   "outputs": [],
   "source": [
    "count=0\n",
    "fhandle = open(\"mbox.txt\",\"r\")\n",
    "worddict={}\n",
    "for fh in fhandle:\n",
    "    if (fh.startswith(\"From \")):\n",
    "        splitt=fh.split()\n",
    "        fh=splitt\n",
    "        fh=fh[4]\n",
    "        for comm in fh:\n",
    "            if fh not in worddict:\n",
    "                worddict[fh]=1\n",
    "            else:\n",
    "                worddict[fh]=worddict[fh]+1"
   ]
  },
  {
   "cell_type": "code",
   "execution_count": 9,
   "metadata": {},
   "outputs": [
    {
     "name": "stdout",
     "output_type": "stream",
     "text": [
      "5 42\n",
      "4 55\n",
      "3 59\n",
      "30 184\n",
      "29 280\n"
     ]
    }
   ],
   "source": [
    "count=0\n",
    "for a,b in worddict.items():\n",
    "    if count<b:\n",
    "        count=b\n",
    "        print(a,count)"
   ]
  },
  {
   "cell_type": "code",
   "execution_count": null,
   "metadata": {},
   "outputs": [],
   "source": []
  }
 ],
 "metadata": {
  "kernelspec": {
   "display_name": "Python 3",
   "language": "python",
   "name": "python3"
  },
  "language_info": {
   "codemirror_mode": {
    "name": "ipython",
    "version": 3
   },
   "file_extension": ".py",
   "mimetype": "text/x-python",
   "name": "python",
   "nbconvert_exporter": "python",
   "pygments_lexer": "ipython3",
   "version": "3.7.3"
  }
 },
 "nbformat": 4,
 "nbformat_minor": 2
}
